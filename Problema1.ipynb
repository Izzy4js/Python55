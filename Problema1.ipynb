{
 "cells": [
  {
   "cell_type": "markdown",
   "metadata": {},
   "source": [
    "# Ejercicio1 - Busqueda de Alojamiento en Airbnb (Jupyter).\n",
    "\n",
    "Supongamos que somos un agente de [Airbnb](http://www.airbnb.com) localizado en Lisboa, y tenemos que atender peticiones de varios clientes. Tenemos un archivo llamado `airbnb.csv` (en la carpeta data) donde tenemos información de todos los alojamientos de Airbnb en Lisboa."
   ]
  },
  {
   "cell_type": "code",
   "execution_count": 21,
   "metadata": {},
   "outputs": [],
   "source": [
    "import pandas as pd\n",
    "df_airbnb = pd.read_csv(\"./data/airbnb.csv\")"
   ]
  },
  {
   "cell_type": "code",
   "execution_count": 22,
   "metadata": {},
   "outputs": [
    {
     "data": {
      "text/html": [
       "<div>\n",
       "<style scoped>\n",
       "    .dataframe tbody tr th:only-of-type {\n",
       "        vertical-align: middle;\n",
       "    }\n",
       "\n",
       "    .dataframe tbody tr th {\n",
       "        vertical-align: top;\n",
       "    }\n",
       "\n",
       "    .dataframe thead th {\n",
       "        text-align: right;\n",
       "    }\n",
       "</style>\n",
       "<table border=\"1\" class=\"dataframe\">\n",
       "  <thead>\n",
       "    <tr style=\"text-align: right;\">\n",
       "      <th></th>\n",
       "      <th>room_id</th>\n",
       "      <th>host_id</th>\n",
       "      <th>room_type</th>\n",
       "      <th>neighborhood</th>\n",
       "      <th>reviews</th>\n",
       "      <th>overall_satisfaction</th>\n",
       "      <th>accommodates</th>\n",
       "      <th>bedrooms</th>\n",
       "      <th>price</th>\n",
       "    </tr>\n",
       "  </thead>\n",
       "  <tbody>\n",
       "    <tr>\n",
       "      <th>0</th>\n",
       "      <td>6499</td>\n",
       "      <td>14455</td>\n",
       "      <td>Entire home/apt</td>\n",
       "      <td>Belém</td>\n",
       "      <td>8</td>\n",
       "      <td>5.0</td>\n",
       "      <td>2</td>\n",
       "      <td>1.0</td>\n",
       "      <td>57.0</td>\n",
       "    </tr>\n",
       "    <tr>\n",
       "      <th>1</th>\n",
       "      <td>17031</td>\n",
       "      <td>66015</td>\n",
       "      <td>Entire home/apt</td>\n",
       "      <td>Alvalade</td>\n",
       "      <td>0</td>\n",
       "      <td>0.0</td>\n",
       "      <td>2</td>\n",
       "      <td>1.0</td>\n",
       "      <td>46.0</td>\n",
       "    </tr>\n",
       "    <tr>\n",
       "      <th>2</th>\n",
       "      <td>25659</td>\n",
       "      <td>107347</td>\n",
       "      <td>Entire home/apt</td>\n",
       "      <td>Santa Maria Maior</td>\n",
       "      <td>63</td>\n",
       "      <td>5.0</td>\n",
       "      <td>3</td>\n",
       "      <td>1.0</td>\n",
       "      <td>69.0</td>\n",
       "    </tr>\n",
       "    <tr>\n",
       "      <th>3</th>\n",
       "      <td>29248</td>\n",
       "      <td>125768</td>\n",
       "      <td>Entire home/apt</td>\n",
       "      <td>Santa Maria Maior</td>\n",
       "      <td>225</td>\n",
       "      <td>4.5</td>\n",
       "      <td>4</td>\n",
       "      <td>1.0</td>\n",
       "      <td>58.0</td>\n",
       "    </tr>\n",
       "    <tr>\n",
       "      <th>4</th>\n",
       "      <td>29396</td>\n",
       "      <td>126415</td>\n",
       "      <td>Entire home/apt</td>\n",
       "      <td>Santa Maria Maior</td>\n",
       "      <td>132</td>\n",
       "      <td>5.0</td>\n",
       "      <td>4</td>\n",
       "      <td>1.0</td>\n",
       "      <td>67.0</td>\n",
       "    </tr>\n",
       "  </tbody>\n",
       "</table>\n",
       "</div>"
      ],
      "text/plain": [
       "   room_id  host_id        room_type       neighborhood  reviews  \\\n",
       "0     6499    14455  Entire home/apt              Belém        8   \n",
       "1    17031    66015  Entire home/apt           Alvalade        0   \n",
       "2    25659   107347  Entire home/apt  Santa Maria Maior       63   \n",
       "3    29248   125768  Entire home/apt  Santa Maria Maior      225   \n",
       "4    29396   126415  Entire home/apt  Santa Maria Maior      132   \n",
       "\n",
       "   overall_satisfaction  accommodates  bedrooms  price  \n",
       "0                   5.0             2       1.0   57.0  \n",
       "1                   0.0             2       1.0   46.0  \n",
       "2                   5.0             3       1.0   69.0  \n",
       "3                   4.5             4       1.0   58.0  \n",
       "4                   5.0             4       1.0   67.0  "
      ]
     },
     "execution_count": 22,
     "metadata": {},
     "output_type": "execute_result"
    }
   ],
   "source": [
    "df_airbnb.head()"
   ]
  },
  {
   "cell_type": "markdown",
   "metadata": {},
   "source": [
    "En concreto el dataset tiene las siguientes variables:\n",
    "- room_id: el identificador de la propiedad\n",
    "- host_id: el identificador del dueño de la propiedad\n",
    "- room_type: tipo de propiedad (vivienda completa/(habitacion para compartir/habitación privada)\n",
    "- neighborhood: el barrio de Lisboa\n",
    "- reviews: El numero de opiniones\n",
    "- overall_satisfaction: Puntuacion media del apartamento\n",
    "- accommodates: El numero de personas que se pueden alojar en la propiedad\n",
    "- bedrooms: El número de habitaciones\n",
    "- price: El precio (en euros) por noche"
   ]
  },
  {
   "cell_type": "markdown",
   "metadata": {},
   "source": [
    "## Ejercicios"
   ]
  },
  {
   "cell_type": "markdown",
   "metadata": {},
   "source": [
    "### 1. Realizar Análisis Exploratorio de los datos"
   ]
  },
  {
   "cell_type": "markdown",
   "metadata": {},
   "source": [
    "Sobre este apartado deberá explorar los datos como se vio en clase .. aplicar métodos shape, columns, etc"
   ]
  },
  {
   "cell_type": "code",
   "execution_count": 39,
   "metadata": {},
   "outputs": [
    {
     "name": "stdout",
     "output_type": "stream",
     "text": [
      "Información básica del dataset:\n",
      "Shape (filas, columnas): (13232, 9)\n",
      "Columnas: Index(['room_id', 'host_id', 'room_type', 'neighborhood', 'reviews',\n",
      "       'overall_satisfaction', 'accommodates', 'bedrooms', 'price'],\n",
      "      dtype='object')\n"
     ]
    }
   ],
   "source": [
    "print(\"Información básica del dataset:\")\n",
    "print(\"Shape (filas, columnas):\", df_airbnb.shape)\n",
    "print(\"Columnas:\", df_airbnb.columns)"
   ]
  },
  {
   "cell_type": "code",
   "execution_count": 40,
   "metadata": {},
   "outputs": [
    {
     "name": "stdout",
     "output_type": "stream",
     "text": [
      "Tipos de datos por columna:\n",
      "room_id                   int64\n",
      "host_id                   int64\n",
      "room_type                object\n",
      "neighborhood             object\n",
      "reviews                   int64\n",
      "overall_satisfaction    float64\n",
      "accommodates              int64\n",
      "bedrooms                float64\n",
      "price                   float64\n",
      "dtype: object\n"
     ]
    }
   ],
   "source": [
    "print(\"Tipos de datos por columna:\")\n",
    "print(df_airbnb.dtypes)"
   ]
  },
  {
   "cell_type": "code",
   "execution_count": 41,
   "metadata": {},
   "outputs": [
    {
     "name": "stdout",
     "output_type": "stream",
     "text": [
      "Valores faltantes por columna:\n",
      "room_id                  0\n",
      "host_id                  0\n",
      "room_type                0\n",
      "neighborhood             0\n",
      "reviews                  0\n",
      "overall_satisfaction    10\n",
      "accommodates             0\n",
      "bedrooms                 0\n",
      "price                    0\n",
      "dtype: int64\n"
     ]
    }
   ],
   "source": [
    "print(\"Valores faltantes por columna:\")\n",
    "print(df_airbnb.isnull().sum())"
   ]
  },
  {
   "cell_type": "code",
   "execution_count": 42,
   "metadata": {},
   "outputs": [
    {
     "name": "stdout",
     "output_type": "stream",
     "text": [
      "Resumen estadístico de las columnas:\n",
      "            room_id       host_id       reviews  overall_satisfaction  \\\n",
      "count  1.323200e+04  1.323200e+04  13232.000000          13222.000000   \n",
      "mean   1.055081e+07  3.616444e+07     29.130063              3.284677   \n",
      "std    6.069884e+06  3.706975e+07     42.802762              2.123236   \n",
      "min    6.499000e+03  1.445500e+04      0.000000              0.000000   \n",
      "25%    5.054848e+06  6.197930e+06      2.000000              0.000000   \n",
      "50%    1.166226e+07  2.207571e+07     11.000000              4.500000   \n",
      "75%    1.609631e+07  5.546697e+07     39.000000              5.000000   \n",
      "max    1.940072e+07  1.359156e+08    438.000000              5.000000   \n",
      "\n",
      "       accommodates      bedrooms         price  \n",
      "count  13232.000000  13232.000000  13232.000000  \n",
      "mean       3.917775      1.549501     86.592352  \n",
      "std        2.293757      1.062821    135.208926  \n",
      "min        1.000000      0.000000     10.000000  \n",
      "25%        2.000000      1.000000     45.000000  \n",
      "50%        4.000000      1.000000     64.000000  \n",
      "75%        5.000000      2.000000     93.000000  \n",
      "max       16.000000     10.000000   7496.000000  \n"
     ]
    }
   ],
   "source": [
    "print(\"Resumen estadístico de las columnas:\")\n",
    "print(df_airbnb.describe())"
   ]
  },
  {
   "cell_type": "code",
   "execution_count": 43,
   "metadata": {},
   "outputs": [
    {
     "name": "stdout",
     "output_type": "stream",
     "text": [
      "Distribución de valores en las columnas categóricas:\n",
      "room_type\n",
      "Entire home/apt    9764\n",
      "Private room       3297\n",
      "Shared room         171\n",
      "Name: count, dtype: int64\n",
      "neighborhood\n",
      "Santa Maria Maior          2798\n",
      "Misericórdia               2402\n",
      "Arroios                    1664\n",
      "Santo António              1105\n",
      "São Vicente                1041\n",
      "Estrela                     803\n",
      "Avenidas Novas              566\n",
      "Penha de França             407\n",
      "Campo de Ourique            319\n",
      "Areeiro                     280\n",
      "Belém                       254\n",
      "Alvalade                    253\n",
      "Parque das Nações           250\n",
      "Alcântara                   213\n",
      "São Domingos de Benfica     138\n",
      "Lumiar                      124\n",
      "Campolide                   123\n",
      "Ajuda                       108\n",
      "Olivais                     108\n",
      "Beato                        84\n",
      "Benfica                      71\n",
      "Marvila                      51\n",
      "Carnide                      47\n",
      "Santa Clara                  23\n",
      "Name: count, dtype: int64\n",
      "\n",
      "\n"
     ]
    }
   ],
   "source": [
    "print(\"Distribución de valores en las columnas categóricas:\")\n",
    "print(df_airbnb['room_type'].value_counts())\n",
    "print(df_airbnb['neighborhood'].value_counts())\n",
    "print(\"\\n\")"
   ]
  },
  {
   "cell_type": "code",
   "execution_count": 44,
   "metadata": {},
   "outputs": [
    {
     "name": "stdout",
     "output_type": "stream",
     "text": [
      "Valores únicos por columna:\n",
      "room_id                 13232\n",
      "host_id                  6418\n",
      "room_type                   3\n",
      "neighborhood               24\n",
      "reviews                   267\n",
      "overall_satisfaction        9\n",
      "accommodates               16\n",
      "bedrooms                   11\n",
      "price                     282\n",
      "dtype: int64\n"
     ]
    }
   ],
   "source": [
    "print(\"Valores únicos por columna:\")\n",
    "print(df_airbnb.nunique())"
   ]
  },
  {
   "cell_type": "markdown",
   "metadata": {},
   "source": [
    "### 2. Realizar Filtrados a Datos\n",
    "\n",
    "- Realizar filtrados, según sea el caso. \n",
    "\n",
    "\n",
    "Nota: \n",
    "Para obtener el top de un conjunto de datos debemos aplicar un head(n) además de ordenar los datos"
   ]
  },
  {
   "cell_type": "markdown",
   "metadata": {},
   "source": [
    "#### Caso 1.\n",
    "\n",
    "Alicia va a ir a Lisboa durante una semana con su marido y sus 2 hijos. Están buscando un apartamento con habitaciones separadas para los padres y los hijos. No les importa donde alojarse o el precio, simplemente quieren tener una experiencia agradable. Esto significa que solo aceptan lugares con más de 10 críticas con una puntuación mayor de 4. Cuando seleccionemos habitaciones para Alicia, tenemos que asegurarnos de ordenar las habitaciones de mejor a peor puntuación. Para aquellas habitaciones que tienen la misma puntuación, debemos mostrar antes aquellas con más críticas. Debemos darle 3 alternativas."
   ]
  },
  {
   "cell_type": "code",
   "execution_count": 48,
   "metadata": {},
   "outputs": [
    {
     "name": "stdout",
     "output_type": "stream",
     "text": [
      "Alternativas\n",
      "     room_id       neighborhood  reviews  overall_satisfaction  bedrooms  \\\n",
      "120   176153       Misericórdia      438                   5.0       2.0   \n",
      "16     44043  Santa Maria Maior      316                   5.0       3.0   \n",
      "140   202150  Santa Maria Maior      274                   5.0       2.0   \n",
      "\n",
      "     price  \n",
      "120  102.0  \n",
      "16    80.0  \n",
      "140   62.0  \n"
     ]
    }
   ],
   "source": [
    "opciones = df_airbnb[(df_airbnb['reviews'] > 10) & (df_airbnb['overall_satisfaction'] > 4) & (df_airbnb['bedrooms'] >= 2)]\n",
    "opciones = opciones.sort_values(by=['overall_satisfaction', 'reviews'], ascending=[False, False])\n",
    "alternativas = opciones.head(3)\n",
    "\n",
    "print(\"Alternativas\")\n",
    "print(alternativas[['room_id', 'neighborhood', 'reviews', 'overall_satisfaction', 'bedrooms', 'price']])\n"
   ]
  },
  {
   "cell_type": "markdown",
   "metadata": {},
   "source": [
    "#### Caso 2\n",
    "\n",
    "Roberto es un casero que tiene una casa en Airbnb. De vez en cuando nos llama preguntando sobre cuales son las críticas de su alojamiento. Hoy está particularmente enfadado, ya que su hermana Clara ha puesto una casa en Airbnb y Roberto quiere asegurarse de que su casa tiene más críticas que las de Clara. Tenemos que crear un dataframe con las propiedades de ambos. Las id de las casas de Roberto y Clara son 97503 y 90387  respectivamente. Finalmente guardamos este dataframe como excel llamado \"roberto.xls"
   ]
  },
  {
   "cell_type": "code",
   "execution_count": 58,
   "metadata": {
    "tags": []
   },
   "outputs": [
    {
     "name": "stdout",
     "output_type": "stream",
     "text": [
      "Propiedades de Roberto y Clara:\n",
      "    room_id  host_id  reviews  overall_satisfaction   neighborhood\n",
      "41    90387   490050      204                   5.0  Santo António\n",
      "48    97503   515924       39                   4.0  Santo António\n"
     ]
    }
   ],
   "source": [
    "propiedades = df_airbnb[df_airbnb['room_id'].isin([97503, 90387])]\n",
    "propiedades.to_excel(\"roberto.xlsx\", index=False)\n",
    "\n",
    "print(\"Propiedades de Roberto y Clara:\")\n",
    "print(propiedades[['room_id', 'host_id', 'reviews', 'overall_satisfaction', 'neighborhood']])\n"
   ]
  },
  {
   "cell_type": "markdown",
   "metadata": {},
   "source": [
    "\n",
    "#### Caso 3\n",
    "\n",
    "Diana va a Lisboa a pasar 3 noches y quiere conocer a gente nueva. Tiene un presupuesto de 50€ para su alojamiento. Debemos buscarle las 10 propiedades más baratas, dandole preferencia a aquellas que sean habitaciones compartidas *(room_type == Shared room)*, y para aquellas viviendas compartidas debemos elegir aquellas con mejor puntuación."
   ]
  },
  {
   "cell_type": "code",
   "execution_count": 60,
   "metadata": {
    "tags": []
   },
   "outputs": [
    {
     "name": "stdout",
     "output_type": "stream",
     "text": [
      "Las 10 propiedades más baratas dentro del presupuesto de Diana:\n",
      "       room_id    room_type  price  overall_satisfaction  reviews  \\\n",
      "7034  12268067  Shared room   16.0                   5.0       96   \n",
      "7060  12299998  Shared room   13.0                   5.0       49   \n",
      "7066  12305540  Shared room   13.0                   5.0       40   \n",
      "6399  11278059  Shared room   22.0                   5.0       27   \n",
      "3663   5725814  Shared room   21.0                   5.0       23   \n",
      "4911   7722107  Shared room   36.0                   5.0       22   \n",
      "6459  11427995  Shared room   18.0                   5.0       21   \n",
      "3727   5803348  Shared room   20.0                   5.0       19   \n",
      "7312  12826213  Shared room   22.0                   5.0       19   \n",
      "5964  10172929  Shared room   20.0                   5.0       17   \n",
      "\n",
      "        neighborhood  \n",
      "7034         Arroios  \n",
      "7060         Arroios  \n",
      "7066         Arroios  \n",
      "6399         Arroios  \n",
      "3663    Misericórdia  \n",
      "4911  Avenidas Novas  \n",
      "6459    Misericórdia  \n",
      "3727    Misericórdia  \n",
      "7312        Alvalade  \n",
      "5964         Areeiro  \n"
     ]
    }
   ],
   "source": [
    "presupuesto = df_airbnb[df_airbnb['price'] <= 50]\n",
    "\n",
    "shared_rooms = presupuesto[presupuesto['room_type'] == 'Shared room']\n",
    "shared_rooms_ordenadas = shared_rooms.sort_values(by=['overall_satisfaction', 'reviews'], ascending=[False, False])\n",
    "\n",
    "otras_propiedades = presupuesto[presupuesto['room_type'] != 'Shared room']\n",
    "otras_propiedades_ordenadas = otras_propiedades.sort_values(by='price')\n",
    "\n",
    "top_10 = pd.concat([shared_rooms_ordenadas, otras_propiedades_ordenadas]).head(10)\n",
    "\n",
    "print(\"Las 10 propiedades más baratas dentro del presupuesto de Diana:\")\n",
    "print(top_10[['room_id', 'room_type', 'price', 'overall_satisfaction', 'reviews', 'neighborhood']])\n"
   ]
  },
  {
   "cell_type": "markdown",
   "metadata": {},
   "source": [
    "### 3. Realizar Agrupamientos de Datos\n",
    "\n",
    "\n",
    "- Según su criterio, aplicar 2 tipos de agrupamientos a los datos brindados. \n",
    "- **Opcional**, averiguar como realizar el gráfico de los 2 agrupamientos de los datos realizados. Se podría emplear librerias como mathplot y searbon ... ayudarse de chatgtp, etc\n"
   ]
  },
  {
   "cell_type": "code",
   "execution_count": 71,
   "metadata": {},
   "outputs": [
    {
     "name": "stdout",
     "output_type": "stream",
     "text": [
      "Promedio de satisfacción por barrio:\n",
      "               neighborhood  overall_satisfaction\n",
      "20        Santa Maria Maior              3.732392\n",
      "0                     Ajuda              3.722222\n",
      "15             Misericórdia              3.695035\n",
      "23              São Vicente              3.561479\n",
      "12                  Estrela              3.422167\n",
      "21            Santo António              3.347373\n",
      "6                     Beato              3.297619\n",
      "7                     Belém              3.061024\n",
      "4                   Arroios              3.057797\n",
      "9          Campo de Ourique              2.996865\n",
      "16                  Olivais              2.916667\n",
      "18          Penha de França              2.800983\n",
      "1                 Alcântara              2.798122\n",
      "2                  Alvalade              2.648221\n",
      "17        Parque das Nações              2.534000\n",
      "14                  Marvila              2.470588\n",
      "3                   Areeiro              2.360714\n",
      "5            Avenidas Novas              2.315371\n",
      "10                Campolide              2.313008\n",
      "8                   Benfica              2.218310\n",
      "13                   Lumiar              1.939516\n",
      "22  São Domingos de Benfica              1.884058\n",
      "19              Santa Clara              1.782609\n",
      "11                  Carnide              1.180851\n"
     ]
    }
   ],
   "source": [
    "promedio_satisfaccion_barrio = df_airbnb.groupby('neighborhood')['overall_satisfaction'].mean().reset_index()\n",
    "\n",
    "promedio_satisfaccion_barrio_ordenado = promedio_satisfaccion_barrio.sort_values(by='overall_satisfaction', ascending=False)\n",
    "\n",
    "print(\"Promedio de satisfacción por barrio:\")\n",
    "print(promedio_satisfaccion_barrio_ordenado)"
   ]
  },
  {
   "cell_type": "code",
   "execution_count": 70,
   "metadata": {},
   "outputs": [
    {
     "name": "stdout",
     "output_type": "stream",
     "text": [
      "Total de críticas por tipo de habitación:\n",
      "         room_type  reviews\n",
      "0  Entire home/apt   321146\n",
      "1     Private room    62636\n",
      "2      Shared room     1667\n"
     ]
    }
   ],
   "source": [
    "total_reviews_por_tipo = df_airbnb.groupby('room_type')['reviews'].sum().reset_index()\n",
    "\n",
    "print(\"Total de críticas por tipo de habitación:\")\n",
    "print(total_reviews_por_tipo)\n"
   ]
  },
  {
   "cell_type": "code",
   "execution_count": 69,
   "metadata": {},
   "outputs": [
    {
     "name": "stderr",
     "output_type": "stream",
     "text": [
      "C:\\Users\\USER\\AppData\\Local\\Temp\\ipykernel_10104\\3599673482.py:5: FutureWarning: \n",
      "\n",
      "Passing `palette` without assigning `hue` is deprecated and will be removed in v0.14.0. Assign the `y` variable to `hue` and set `legend=False` for the same effect.\n",
      "\n",
      "  sns.barplot(x='overall_satisfaction', y='neighborhood', data=promedio_satisfaccion_barrio_ordenado, palette='coolwarm')\n"
     ]
    },
    {
     "data": {
      "image/png": "[encoded data removed]",
      "text/plain": [
       "<Figure size 1000x600 with 1 Axes>"
      ]
     },
     "metadata": {},
     "output_type": "display_data"
    },
    {
     "name": "stderr",
     "output_type": "stream",
     "text": [
      "C:\\Users\\USER\\AppData\\Local\\Temp\\ipykernel_10104\\3599673482.py:12: FutureWarning: \n",
      "\n",
      "Passing `palette` without assigning `hue` is deprecated and will be removed in v0.14.0. Assign the `x` variable to `hue` and set `legend=False` for the same effect.\n",
      "\n",
      "  sns.barplot(x='room_type', y='reviews', data=total_reviews_por_tipo, palette='viridis')\n"
     ]
    },
    {
     "data": {
      "image/png": "[encoded data removed]",
      "text/plain": [
       "<Figure size 800x500 with 1 Axes>"
      ]
     },
     "metadata": {},
     "output_type": "display_data"
    }
   ],
   "source": [
    "import matplotlib.pyplot as plt\n",
    "import seaborn as sns\n",
    "\n",
    "plt.figure(figsize=(10, 6))\n",
    "sns.barplot(x='overall_satisfaction', y='neighborhood', data=promedio_satisfaccion_barrio_ordenado, palette='coolwarm')\n",
    "plt.title('Promedio de Satisfacción por Barrio')\n",
    "plt.xlabel('Puntuación Promedio')\n",
    "plt.ylabel('Barrio')\n",
    "plt.show()\n",
    "\n",
    "plt.figure(figsize=(8, 5))\n",
    "sns.barplot(x='room_type', y='reviews', data=total_reviews_por_tipo, palette='viridis')\n",
    "plt.title('Total de Críticas por Tipo de Habitación')\n",
    "plt.xlabel('Tipo de Habitación')\n",
    "plt.ylabel('Total de Críticas')\n",
    "plt.show()"
   ]
  }
 ],
 "metadata": {
  "kernelspec": {
   "display_name": "Python 3",
   "language": "python",
   "name": "python3"
  },
  "language_info": {
   "codemirror_mode": {
    "name": "ipython",
    "version": 3
   },
   "file_extension": ".py",
   "mimetype": "text/x-python",
   "name": "python",
   "nbconvert_exporter": "python",
   "pygments_lexer": "ipython3",
   "version": "3.12.6"
  }
 },
 "nbformat": 4,
 "nbformat_minor": 4
}
